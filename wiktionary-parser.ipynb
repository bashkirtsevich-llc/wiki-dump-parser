{
 "cells": [
  {
   "cell_type": "markdown",
   "metadata": {},
   "source": [
    "# Wiktionary dump parser"
   ]
  },
  {
   "cell_type": "markdown",
   "metadata": {},
   "source": [
    "## Preparations\n",
    "* read the [wiki-parser](wiki-parser.ipynb) first\n",
    "* just download the [ruwiktionary-latest-pages-articles.xml.bz2](https://dumps.wikimedia.org/ruwiktionary/latest/ruwiktionary-latest-pages-articles.xml.bz2) file \n",
    "* open Python 3 and lets begin"
   ]
  },
  {
   "cell_type": "markdown",
   "metadata": {},
   "source": [
    "## Programming"
   ]
  },
  {
   "cell_type": "markdown",
   "metadata": {},
   "source": [
    "* Lets copy necessary code from [wiki-parser](wiki-parser.ipynb) :"
   ]
  },
  {
   "cell_type": "code",
   "execution_count": 1,
   "metadata": {},
   "outputs": [],
   "source": [
    "from bz2 import BZ2File\n",
    "import xml.etree.ElementTree as etree\n",
    "\n",
    "def strip_tag_name(t):\n",
    "    idx = k = t.rfind(\"}\")\n",
    "    if idx != -1:\n",
    "        return t[idx + 1:]\n",
    "    else:\n",
    "        return t\n",
    "\n",
    "def read_wiki_dump(bz2_dump_path):\n",
    "    with BZ2File(bz2_dump_path) as xml_file:\n",
    "        for event, elem in etree.iterparse(xml_file, events=(\"start\", \"end\")):\n",
    "            tname = strip_tag_name(elem.tag)\n",
    "            if event == \"start\":\n",
    "                # We will read only \"page\" nodes\n",
    "                if tname == \"page\":\n",
    "                    # Init necessary fields\n",
    "                    title = \"\"\n",
    "                    redirect = \"\"\n",
    "                    ns = 0\n",
    "                    text = \"\"\n",
    "            else:\n",
    "                # Assign fields values\n",
    "                if tname == \"title\":\n",
    "                    title = elem.text\n",
    "                elif tname == \"redirect\":\n",
    "                    redirect = elem.attrib[\"title\"]\n",
    "                elif tname == \"ns\":\n",
    "                    ns = int(elem.text)\n",
    "                elif tname == \"text\":\n",
    "                    text = elem.text\n",
    "                elif tname == \"page\":\n",
    "                    # Yield fields\n",
    "                    yield title, redirect, ns, text\n",
    "                elem.clear()"
   ]
  },
  {
   "cell_type": "markdown",
   "metadata": {},
   "source": [
    "* Lets read the file:"
   ]
  },
  {
   "cell_type": "code",
   "execution_count": 2,
   "metadata": {},
   "outputs": [
    {
     "name": "stdout",
     "output_type": "stream",
     "text": [
      "Заглавная страница\n",
      "ё\n",
      "Фемиксира\n",
      "эбонитовый\n",
      "а\n",
      "Ба\n",
      "в\n",
      "да\n",
      "ахинея\n",
      "агат\n",
      "Новосибирск\n",
      "мальчик\n",
      "публицист\n",
      "Хвост\n",
      "химия\n",
      "агент\n",
      "heavy duty\n",
      "abuse\n",
      "acceptance test\n",
      "activity\n",
      "code smell\n",
      "smell\n",
      "Elbonia\n",
      "code review\n",
      "reception\n",
      "focus\n",
      "workshop\n",
      "review\n",
      "follow up\n",
      "framework\n"
     ]
    }
   ],
   "source": [
    "from itertools import islice\n",
    "\n",
    "XML_BZ2_FILE_PATH = \"J:\\\\ruwiktionary-latest-pages-articles.xml.bz2\"\n",
    "SLICE_SIZE = 30\n",
    "\n",
    "def is_article(title, redirect, ns, text):\n",
    "    return ns == 0 and len(redirect) == 0\n",
    "\n",
    "for title, redirect, ns, text in islice(\n",
    "        filter(\n",
    "            lambda it: is_article(*it), \n",
    "            read_wiki_dump(XML_BZ2_FILE_PATH)\n",
    "        ), SLICE_SIZE):\n",
    "    print(title)"
   ]
  },
  {
   "cell_type": "markdown",
   "metadata": {},
   "source": [
    "* Lets select nouns only:"
   ]
  },
  {
   "cell_type": "code",
   "execution_count": 3,
   "metadata": {},
   "outputs": [
    {
     "name": "stdout",
     "output_type": "stream",
     "text": [
      "ё\n",
      "Фемиксира\n",
      "а\n",
      "Ба\n",
      "ахинея\n",
      "агат\n",
      "Новосибирск\n",
      "мальчик\n",
      "публицист\n",
      "Хвост\n",
      "химия\n",
      "агент\n",
      "день\n",
      "деньги\n",
      "Еда\n",
      "Банда\n",
      "я\n",
      "Перл\n",
      "Баба\n",
      "Близкий\n",
      "Израиль\n",
      "Дама\n",
      "Дева\n",
      "Сон\n",
      "беда\n",
      "цель\n",
      "объект\n",
      "Ватикан\n",
      "Италия\n",
      "Бог\n"
     ]
    }
   ],
   "source": [
    "def is_noun(title, redirect, ns, text):\n",
    "    return is_article(title, redirect, ns, text) and \"= {{-ru-}} =\" in text and \"{{сущ ru\" in text\n",
    "\n",
    "for title, redirect, ns, text in islice(\n",
    "        filter(\n",
    "            lambda it: is_noun(*it), \n",
    "            read_wiki_dump(XML_BZ2_FILE_PATH)\n",
    "        ), SLICE_SIZE):\n",
    "    print(title)"
   ]
  },
  {
   "cell_type": "markdown",
   "metadata": {},
   "source": [
    "* Lets save all nouns to file (exclude single character words):"
   ]
  },
  {
   "cell_type": "code",
   "execution_count": 4,
   "metadata": {},
   "outputs": [],
   "source": [
    "import codecs\n",
    "\n",
    "NOUNS_DICT_PATH = \"J:\\\\ru-nouns.txt\"\n",
    "\n",
    "def is_noun(title, redirect, ns, text):\n",
    "    return is_article(title, redirect, ns, text) and len(title) > 1 and \"= {{-ru-}} =\" in text and \"{{сущ ru\" in text\n",
    "\n",
    "with codecs.open(NOUNS_DICT_PATH, mode=\"w\", encoding=\"utf-8\") as fp:\n",
    "    for title, redirect, ns, text in filter(\n",
    "            lambda it: is_noun(*it), \n",
    "            read_wiki_dump(XML_BZ2_FILE_PATH)\n",
    "        ):\n",
    "        print(title.lower(), file=fp)"
   ]
  }
 ],
 "metadata": {
  "kernelspec": {
   "display_name": "Python 3",
   "language": "python",
   "name": "python3"
  },
  "language_info": {
   "codemirror_mode": {
    "name": "ipython",
    "version": 3
   },
   "file_extension": ".py",
   "mimetype": "text/x-python",
   "name": "python",
   "nbconvert_exporter": "python",
   "pygments_lexer": "ipython3",
   "version": "3.6.3"
  }
 },
 "nbformat": 4,
 "nbformat_minor": 2
}
