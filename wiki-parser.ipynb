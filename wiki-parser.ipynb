{
 "cells": [
  {
   "cell_type": "markdown",
   "metadata": {},
   "source": [
    "# Wiki dump xml parser"
   ]
  },
  {
   "cell_type": "markdown",
   "metadata": {},
   "source": [
    "## Preparations\n",
    "* just download the [ruwiki-latest-pages-articles.xml.bz2](https://dumps.wikimedia.org/ruwiki/latest/ruwiki-latest-pages-articles.xml.bz2) file \n",
    "* open Python 3 and lets begin"
   ]
  },
  {
   "cell_type": "markdown",
   "metadata": {},
   "source": [
    "## Programming"
   ]
  },
  {
   "cell_type": "markdown",
   "metadata": {},
   "source": [
    "* Import `BZ2` archive reader:"
   ]
  },
  {
   "cell_type": "code",
   "execution_count": 1,
   "metadata": {},
   "outputs": [],
   "source": [
    "from bz2 import BZ2File"
   ]
  },
  {
   "cell_type": "markdown",
   "metadata": {},
   "source": [
    "* Import `ElementTree` from `xml` lib:"
   ]
  },
  {
   "cell_type": "code",
   "execution_count": 2,
   "metadata": {},
   "outputs": [],
   "source": [
    "import xml.etree.ElementTree as etree"
   ]
  },
  {
   "cell_type": "markdown",
   "metadata": {},
   "source": [
    "* Lets add function for stripping tag names:"
   ]
  },
  {
   "cell_type": "code",
   "execution_count": 3,
   "metadata": {},
   "outputs": [],
   "source": [
    "def strip_tag_name(t):\n",
    "    idx = k = t.rfind(\"}\")\n",
    "    if idx != -1:\n",
    "        return t[idx + 1:]\n",
    "    else:\n",
    "        return t"
   ]
  },
  {
   "cell_type": "markdown",
   "metadata": {},
   "source": [
    "* Now we create generator-like reader for our `bz2` wiki dump:"
   ]
  },
  {
   "cell_type": "code",
   "execution_count": 4,
   "metadata": {},
   "outputs": [],
   "source": [
    "def read_wiki_dump(bz2_dump_path):\n",
    "    with BZ2File(bz2_dump_path) as xml_file:\n",
    "        for event, elem in etree.iterparse(xml_file, events=(\"start\", \"end\")):\n",
    "            tname = strip_tag_name(elem.tag)\n",
    "            if event == \"start\":\n",
    "                # We will read only \"page\" nodes\n",
    "                if tname == \"page\":\n",
    "                    # Init necessary fields\n",
    "                    title = \"\"\n",
    "                    redirect = \"\"\n",
    "                    ns = 0\n",
    "                    text = \"\"\n",
    "            else:\n",
    "                # Assign fields values\n",
    "                if tname == \"title\":\n",
    "                    title = elem.text\n",
    "                elif tname == \"redirect\":\n",
    "                    redirect = elem.attrib[\"title\"]\n",
    "                elif tname == \"ns\":\n",
    "                    ns = int(elem.text)\n",
    "                elif tname == \"text\":\n",
    "                    text = elem.text\n",
    "                elif tname == \"page\":\n",
    "                    # Yield fields\n",
    "                    yield title, redirect, ns, text\n",
    "                elem.clear()"
   ]
  },
  {
   "cell_type": "markdown",
   "metadata": {},
   "source": [
    "* OK. Lets read littlebit of the dump data:"
   ]
  },
  {
   "cell_type": "code",
   "execution_count": 5,
   "metadata": {},
   "outputs": [
    {
     "name": "stdout",
     "output_type": "stream",
     "text": [
      "title: Базовая статья\n",
      "redirect: Заглавная страница\n",
      "ns: 0\n",
      "text slice (first 50 chars): #REDIRECT [[Заглавная страница]]\n",
      "title: Литва\n",
      "redirect: \n",
      "ns: 0\n",
      "text slice (first 50 chars): {{другие значения}}\n",
      "{{Государство\n",
      " |Русское назван\n",
      "title: Россия\n",
      "redirect: \n",
      "ns: 0\n",
      "text slice (first 50 chars): {{Другие значения}}\n",
      "{{Перенаправление|РФ}}\n",
      "{{Госуд\n",
      "title: Слоновые\n",
      "redirect: \n",
      "ns: 0\n",
      "text slice (first 50 chars): {{перенаправление|Слон}}\n",
      "{{Таксон\n",
      "|image file=Afri\n",
      "title: Мамонты\n",
      "redirect: \n",
      "ns: 0\n",
      "text slice (first 50 chars): {{перенаправление|Мамонт}}\n",
      "{{Таксон\n",
      " | image file \n"
     ]
    }
   ],
   "source": [
    "from itertools import islice\n",
    "\n",
    "XML_BZ2_FILE_PATH = \"J:\\\\ruwiki-latest-pages-articles.xml.bz2\"\n",
    "SLICE_SIZE = 5\n",
    "\n",
    "for title, redirect, ns, text in islice(read_wiki_dump(XML_BZ2_FILE_PATH), SLICE_SIZE):\n",
    "    print(\"title: {}\\r\\nredirect: {}\\r\\nns: {}\\r\\ntext slice (first 50 chars): {}\".format(title, redirect, ns, text[:50]))"
   ]
  },
  {
   "cell_type": "markdown",
   "metadata": {},
   "source": [
    "Lets see `siteinfo` section:\n",
    "```\n",
    "      <namespace key=\"-2\" case=\"first-letter\">Медиа</namespace>\n",
    "      <namespace key=\"-1\" case=\"first-letter\">Служебная</namespace>\n",
    "      <namespace key=\"0\" case=\"first-letter\" />\n",
    "      <namespace key=\"1\" case=\"first-letter\">Обсуждение</namespace>\n",
    "      <namespace key=\"2\" case=\"first-letter\">Участник</namespace>\n",
    "      <namespace key=\"3\" case=\"first-letter\">Обсуждение участника</namespace>\n",
    "      <namespace key=\"4\" case=\"first-letter\">Википедия</namespace>\n",
    "      <namespace key=\"5\" case=\"first-letter\">Обсуждение Википедии</namespace>\n",
    "      <namespace key=\"6\" case=\"first-letter\">Файл</namespace>\n",
    "      <namespace key=\"7\" case=\"first-letter\">Обсуждение файла</namespace>\n",
    "      <namespace key=\"8\" case=\"first-letter\">MediaWiki</namespace>\n",
    "      <namespace key=\"9\" case=\"first-letter\">Обсуждение MediaWiki</namespace>\n",
    "      <namespace key=\"10\" case=\"first-letter\">Шаблон</namespace>\n",
    "      <namespace key=\"11\" case=\"first-letter\">Обсуждение шаблона</namespace>\n",
    "      <namespace key=\"12\" case=\"first-letter\">Справка</namespace>\n",
    "      <namespace key=\"13\" case=\"first-letter\">Обсуждение справки</namespace>\n",
    "      <namespace key=\"14\" case=\"first-letter\">Категория</namespace>\n",
    "      <namespace key=\"15\" case=\"first-letter\">Обсуждение категории</namespace>\n",
    "      <namespace key=\"100\" case=\"first-letter\">Портал</namespace>\n",
    "      <namespace key=\"101\" case=\"first-letter\">Обсуждение портала</namespace>\n",
    "      <namespace key=\"102\" case=\"first-letter\">Инкубатор</namespace>\n",
    "      <namespace key=\"103\" case=\"first-letter\">Обсуждение Инкубатора</namespace>\n",
    "      <namespace key=\"104\" case=\"first-letter\">Проект</namespace>\n",
    "      <namespace key=\"105\" case=\"first-letter\">Обсуждение проекта</namespace>\n",
    "      <namespace key=\"106\" case=\"first-letter\">Арбитраж</namespace>\n",
    "      <namespace key=\"107\" case=\"first-letter\">Обсуждение арбитража</namespace>\n",
    "      <namespace key=\"446\" case=\"first-letter\">Образовательная программа</namespace>\n",
    "      <namespace key=\"447\" case=\"first-letter\">Обсуждение образовательной программы</namespace>\n",
    "      <namespace key=\"828\" case=\"first-letter\">Модуль</namespace>\n",
    "      <namespace key=\"829\" case=\"first-letter\">Обсуждение модуля</namespace>\n",
    "      <namespace key=\"2300\" case=\"first-letter\">Gadget</namespace>\n",
    "      <namespace key=\"2301\" case=\"first-letter\">Gadget talk</namespace>\n",
    "      <namespace key=\"2302\" case=\"case-sensitive\">Gadget definition</namespace>\n",
    "      <namespace key=\"2303\" case=\"case-sensitive\">Gadget definition talk</namespace>\n",
    "      <namespace key=\"2600\" case=\"first-letter\">Тема</namespace>\n",
    "```\n",
    "Our `ns` field equals `namespace key`."
   ]
  },
  {
   "cell_type": "markdown",
   "metadata": {},
   "source": [
    "* OK. Lets filter our database and print only `articles`:"
   ]
  },
  {
   "cell_type": "code",
   "execution_count": 6,
   "metadata": {},
   "outputs": [
    {
     "name": "stdout",
     "output_type": "stream",
     "text": [
      "Литва\n",
      "Россия\n",
      "Слоновые\n",
      "Мамонты\n",
      "Красная книга\n",
      "Соционика\n",
      "Школа\n",
      "Лингвистика\n",
      "Социология\n",
      "Киевская Русь\n"
     ]
    }
   ],
   "source": [
    "SLICE_SIZE = 10\n",
    "\n",
    "for title, redirect, ns, text in islice(\n",
    "        # Lambda can get only one argument (here is tuple(title, redirect, ns, text)) it[2] -- is a \"ns\", and it[1] -- is a redirect\n",
    "        filter(lambda it: it[2] == 0 and len(it[1]) == 0, \n",
    "               read_wiki_dump(XML_BZ2_FILE_PATH)), \n",
    "    SLICE_SIZE):\n",
    "    print(title)"
   ]
  }
 ],
 "metadata": {
  "kernelspec": {
   "display_name": "Python 3",
   "language": "python",
   "name": "python3"
  },
  "language_info": {
   "codemirror_mode": {
    "name": "ipython",
    "version": 3
   },
   "file_extension": ".py",
   "mimetype": "text/x-python",
   "name": "python",
   "nbconvert_exporter": "python",
   "pygments_lexer": "ipython3",
   "version": "3.6.3"
  }
 },
 "nbformat": 4,
 "nbformat_minor": 2
}
